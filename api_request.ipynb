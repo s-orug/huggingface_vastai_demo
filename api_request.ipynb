{
 "cells": [
  {
   "cell_type": "code",
   "execution_count": 2,
   "id": "51a13719",
   "metadata": {},
   "outputs": [],
   "source": [
    "import requests\n",
    "import json\n",
    "\n",
    "SERVER_URL = \"http://8.34.124.122:25427/generate\"\n",
    "\n",
    "def generate_text(prompt: str):\n",
    "    payload = {\"text\": prompt}\n",
    "    headers = {\"Content-Type\": \"application/json\"}\n",
    "\n",
    "    try:\n",
    "        response = requests.post(SERVER_URL, headers=headers, data=json.dumps(payload))\n",
    "        response.raise_for_status()\n",
    "        return response.json()\n",
    "    except requests.exceptions.RequestException as e:\n",
    "        return {\"error\": str(e)}"
   ]
  },
  {
   "cell_type": "code",
   "execution_count": 6,
   "id": "1961e1cb",
   "metadata": {},
   "outputs": [
    {
     "name": "stdout",
     "output_type": "stream",
     "text": [
      "Prompt:\n",
      "Explain the difference between an Arduino and Raspberry Pi?\n",
      "\n",
      "Response:\n",
      "[INST] Explain the difference between an Arduino and Raspberry Pi? [/INST] Arduino and Raspberry Pi are two popular platforms used for building various types of projects, from simple sensors and automation to complex robotics and home automation systems. Although they share some similarities, they are distinct in their functionality, design, and capabilities.\n",
      "\n",
      "1. Functionality: Arduino is primarily an open-source microcontroller platform. It is designed to be easy to use and program for beginners and hobbyists. Arduino microcontroller chips have limited processing power and less memory. They are ideal for handling small amounts of data, executing specific tasks, and controlling external hardware directly.\n",
      "\n",
      "Raspberry Pi, on the other hand, is a mini-computer, not just a microcontroller. It can run a full-fledged operating system and can execute complex processing tasks, including multimedia and networking. Raspberry Pi is powerful enough to run graphical user interfaces (GUIs), perform data analysis, and even host web servers.\n",
      "\n",
      "2. Hardware: An Arduino board typically consists of a microcontroller chip, Digital-to-Analog and Analog-to-Digital converters, input and output pins, and other basic electronic components. Arduino boards do not have built-in displays or networking capabilities.\n",
      "\n",
      "Raspberry Pi, in contrast, has a powerful ARM-based CPU, integrated graphics, and a full-sized SD card slot, allowing\n"
     ]
    }
   ],
   "source": [
    "prompt = \"Explain the difference between an Arduino and Raspberry Pi?\"\n",
    "result = generate_text(prompt)\n",
    "\n",
    "# Check if the API returned an error\n",
    "if \"error\" in result:\n",
    "    print(f\"Error: {result['error']}\")\n",
    "else:\n",
    "    response_text = result.get(\"response\", \"\")\n",
    "    print(f\"Prompt:\\n{prompt}\\n\")\n",
    "    print(f\"Response:\\n{response_text}\")"
   ]
  }
 ],
 "metadata": {
  "kernelspec": {
   "display_name": "Python 3",
   "language": "python",
   "name": "python3"
  },
  "language_info": {
   "codemirror_mode": {
    "name": "ipython",
    "version": 3
   },
   "file_extension": ".py",
   "mimetype": "text/x-python",
   "name": "python",
   "nbconvert_exporter": "python",
   "pygments_lexer": "ipython3",
   "version": "3.10.12"
  }
 },
 "nbformat": 4,
 "nbformat_minor": 5
}
