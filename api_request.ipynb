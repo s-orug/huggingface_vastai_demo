{
 "cells": [
  {
   "cell_type": "code",
   "execution_count": 7,
   "id": "51a13719",
   "metadata": {},
   "outputs": [],
   "source": [
    "import requests\n",
    "import json\n",
    "\n",
    "# SERVER_URL = \"http://8.34.124.122:25427/generate\"\n",
    "SERVER_URL = \"http://134.0.172.18:40135/generate\"\n",
    "\n",
    "def generate_text(prompt: str):\n",
    "    payload = {\"text\": prompt}\n",
    "    headers = {\"Content-Type\": \"application/json\"}\n",
    "\n",
    "    try:\n",
    "        response = requests.post(SERVER_URL, headers=headers, data=json.dumps(payload))\n",
    "        response.raise_for_status()\n",
    "        return response.json()\n",
    "    except requests.exceptions.RequestException as e:\n",
    "        return {\"error\": str(e)}"
   ]
  },
  {
   "cell_type": "code",
   "execution_count": 8,
   "id": "1961e1cb",
   "metadata": {},
   "outputs": [
    {
     "name": "stdout",
     "output_type": "stream",
     "text": [
      "Prompt:\n",
      "Explain the difference between an Arduino and Raspberry Pi?\n",
      "\n",
      "Response:\n",
      "[INST] Explain the difference between an Arduino and Raspberry Pi? [/INST] Arduino and Raspberry Pi are two different types of microcontrollers used for building projects in the field of electronics and computer engineering, each with their distinct features, strengths, and usages.\n",
      "\n",
      "1. Microcontroller: Both Arduino and Raspberry Pi are electronic devices, but they serve different purposes. Arduino is a type of microcontroller Board, while Raspberry Pi is a more advanced computer that incorporates a microcontroller.\n",
      "\n",
      "2. Functionality: Arduino is designed primarily for IoT projects, robotic control, and prototyping, where quick processing, real-time control, and low power consumption are important. Raspberry Pi, on the other hand, is designed for general purpose computing, running an operating system and applications to handle complex tasks.\n",
      "\n",
      "3. Processing: Arduinos have a built-in microcontroller (Atmel AVR or ARM Cortex-M), typically with a few kilobytes to some hundred kilobytes of flash memory and a few kilobytes to tens of kilobytes of SRAM. Raspberry Pi, in comparison, uses a more powerful ARM11 microprocessor and comes with 512 MB to 4 GB of RAM, 2 GB to 32 GB of storage and a full-sized SD card slot for expandable storage.\n",
      "\n",
      "4. Input/Output: Arduinos have a limited number of\n"
     ]
    }
   ],
   "source": [
    "prompt = \"Explain the difference between an Arduino and Raspberry Pi?\"\n",
    "result = generate_text(prompt)\n",
    "\n",
    "# Check if the API returned an error\n",
    "if \"error\" in result:\n",
    "    print(f\"Error: {result['error']}\")\n",
    "else:\n",
    "    response_text = result.get(\"response\", \"\")\n",
    "    print(f\"Prompt:\\n{prompt}\\n\")\n",
    "    print(f\"Response:\\n{response_text}\")"
   ]
  }
 ],
 "metadata": {
  "kernelspec": {
   "display_name": "Python 3",
   "language": "python",
   "name": "python3"
  },
  "language_info": {
   "codemirror_mode": {
    "name": "ipython",
    "version": 3
   },
   "file_extension": ".py",
   "mimetype": "text/x-python",
   "name": "python",
   "nbconvert_exporter": "python",
   "pygments_lexer": "ipython3",
   "version": "3.10.12"
  }
 },
 "nbformat": 4,
 "nbformat_minor": 5
}
